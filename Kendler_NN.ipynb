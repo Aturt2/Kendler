{
 "cells": [
  {
   "cell_type": "code",
   "execution_count": 1,
   "metadata": {},
   "outputs": [],
   "source": [
    "import matplotlib.pyplot as plt\n",
    "import matplotlib.image as mpimg\n",
    "import pandas as pd\n",
    "import numpy as np\n",
    "from tqdm import tqdm_notebook as tqdm"
   ]
  },
  {
   "cell_type": "code",
   "execution_count": 2,
   "metadata": {},
   "outputs": [
    {
     "name": "stderr",
     "output_type": "stream",
     "text": [
      "Using TensorFlow backend.\n"
     ]
    }
   ],
   "source": [
    "import keras\n",
    "from keras.layers import Input, Dense, Dropout, Conv2D, MaxPool2D, Flatten, LSTM, Conv1D, MaxPool1D, BatchNormalization\n",
    "from keras.layers.embeddings import Embedding\n",
    "from keras.models import Model\n",
    "from keras.utils import np_utils \n",
    "from keras.datasets import mnist\n",
    "from keras.applications.vgg16 import VGG16\n",
    "from keras.applications.vgg16 import preprocess_input\n",
    "from keras.preprocessing import sequence\n",
    "from keras.preprocessing.image import load_img\n",
    "from keras.preprocessing.image import img_to_array\n",
    "from keras.optimizers import Adam\n",
    "from keras.regularizers import l1, l2\n",
    "from livelossplot import PlotLossesKeras"
   ]
  },
  {
   "cell_type": "code",
   "execution_count": 3,
   "metadata": {},
   "outputs": [],
   "source": [
    "img=mpimg.imread('Img/big_green.png')"
   ]
  },
  {
   "cell_type": "code",
   "execution_count": 4,
   "metadata": {},
   "outputs": [
    {
     "data": {
      "image/png": "[encoded data removed]",
      "text/plain": [
       "<Figure size 432x288 with 1 Axes>"
      ]
     },
     "metadata": {
      "needs_background": "light"
     },
     "output_type": "display_data"
    }
   ],
   "source": [
    "imgplot = plt.imshow(img)"
   ]
  },
  {
   "cell_type": "code",
   "execution_count": 5,
   "metadata": {},
   "outputs": [
    {
     "data": {
      "text/plain": [
       "(28, 28, 3)"
      ]
     },
     "execution_count": 5,
     "metadata": {},
     "output_type": "execute_result"
    }
   ],
   "source": [
    "img.shape"
   ]
  },
  {
   "cell_type": "code",
   "execution_count": 6,
   "metadata": {},
   "outputs": [
    {
     "data": {
      "text/plain": [
       "array([1., 1., 1., ..., 1., 1., 1.], dtype=float32)"
      ]
     },
     "execution_count": 6,
     "metadata": {},
     "output_type": "execute_result"
    }
   ],
   "source": [
    "img.flatten()"
   ]
  },
  {
   "cell_type": "code",
   "execution_count": 5,
   "metadata": {},
   "outputs": [],
   "source": [
    "img=mpimg.imread('Img/big_green.png').flatten()\n",
    "data = pd.DataFrame({\"x{}\".format(i): [img[i]] for i in range(img.shape[0])})\n",
    "img=mpimg.imread('Img/small_green.png').flatten()\n",
    "data = data.append(pd.DataFrame({\"x{}\".format(i): [img[i]] for i in range(img.shape[0])}))\n",
    "img=mpimg.imread('Img/big_red.png').flatten()\n",
    "data = data.append(pd.DataFrame({\"x{}\".format(i): [img[i]] for i in range(img.shape[0])}))\n",
    "img=mpimg.imread('Img/small_red.png').flatten()\n",
    "data = data.append(pd.DataFrame({\"x{}\".format(i): [img[i]] for i in range(img.shape[0])}))"
   ]
  },
  {
   "cell_type": "code",
   "execution_count": 6,
   "metadata": {},
   "outputs": [
    {
     "data": {
      "text/html": [
       "<div>\n",
       "<style scoped>\n",
       "    .dataframe tbody tr th:only-of-type {\n",
       "        vertical-align: middle;\n",
       "    }\n",
       "\n",
       "    .dataframe tbody tr th {\n",
       "        vertical-align: top;\n",
       "    }\n",
       "\n",
       "    .dataframe thead th {\n",
       "        text-align: right;\n",
       "    }\n",
       "</style>\n",
       "<table border=\"1\" class=\"dataframe\">\n",
       "  <thead>\n",
       "    <tr style=\"text-align: right;\">\n",
       "      <th></th>\n",
       "      <th>x0</th>\n",
       "      <th>x1</th>\n",
       "      <th>x2</th>\n",
       "      <th>x3</th>\n",
       "      <th>x4</th>\n",
       "      <th>x5</th>\n",
       "      <th>x6</th>\n",
       "      <th>x7</th>\n",
       "      <th>x8</th>\n",
       "      <th>x9</th>\n",
       "      <th>...</th>\n",
       "      <th>x2342</th>\n",
       "      <th>x2343</th>\n",
       "      <th>x2344</th>\n",
       "      <th>x2345</th>\n",
       "      <th>x2346</th>\n",
       "      <th>x2347</th>\n",
       "      <th>x2348</th>\n",
       "      <th>x2349</th>\n",
       "      <th>x2350</th>\n",
       "      <th>x2351</th>\n",
       "    </tr>\n",
       "  </thead>\n",
       "  <tbody>\n",
       "    <tr>\n",
       "      <th>0</th>\n",
       "      <td>1.0</td>\n",
       "      <td>1.0</td>\n",
       "      <td>1.0</td>\n",
       "      <td>1.0</td>\n",
       "      <td>1.0</td>\n",
       "      <td>1.0</td>\n",
       "      <td>1.0</td>\n",
       "      <td>1.0</td>\n",
       "      <td>1.0</td>\n",
       "      <td>1.0</td>\n",
       "      <td>...</td>\n",
       "      <td>1.0</td>\n",
       "      <td>1.0</td>\n",
       "      <td>1.0</td>\n",
       "      <td>1.0</td>\n",
       "      <td>1.0</td>\n",
       "      <td>1.0</td>\n",
       "      <td>1.0</td>\n",
       "      <td>1.0</td>\n",
       "      <td>1.0</td>\n",
       "      <td>1.0</td>\n",
       "    </tr>\n",
       "    <tr>\n",
       "      <th>1</th>\n",
       "      <td>1.0</td>\n",
       "      <td>1.0</td>\n",
       "      <td>1.0</td>\n",
       "      <td>1.0</td>\n",
       "      <td>1.0</td>\n",
       "      <td>1.0</td>\n",
       "      <td>1.0</td>\n",
       "      <td>1.0</td>\n",
       "      <td>1.0</td>\n",
       "      <td>1.0</td>\n",
       "      <td>...</td>\n",
       "      <td>1.0</td>\n",
       "      <td>1.0</td>\n",
       "      <td>1.0</td>\n",
       "      <td>1.0</td>\n",
       "      <td>1.0</td>\n",
       "      <td>1.0</td>\n",
       "      <td>1.0</td>\n",
       "      <td>1.0</td>\n",
       "      <td>1.0</td>\n",
       "      <td>1.0</td>\n",
       "    </tr>\n",
       "    <tr>\n",
       "      <th>2</th>\n",
       "      <td>1.0</td>\n",
       "      <td>1.0</td>\n",
       "      <td>1.0</td>\n",
       "      <td>1.0</td>\n",
       "      <td>1.0</td>\n",
       "      <td>1.0</td>\n",
       "      <td>1.0</td>\n",
       "      <td>1.0</td>\n",
       "      <td>1.0</td>\n",
       "      <td>1.0</td>\n",
       "      <td>...</td>\n",
       "      <td>1.0</td>\n",
       "      <td>1.0</td>\n",
       "      <td>1.0</td>\n",
       "      <td>1.0</td>\n",
       "      <td>1.0</td>\n",
       "      <td>1.0</td>\n",
       "      <td>1.0</td>\n",
       "      <td>1.0</td>\n",
       "      <td>1.0</td>\n",
       "      <td>1.0</td>\n",
       "    </tr>\n",
       "    <tr>\n",
       "      <th>3</th>\n",
       "      <td>1.0</td>\n",
       "      <td>1.0</td>\n",
       "      <td>1.0</td>\n",
       "      <td>1.0</td>\n",
       "      <td>1.0</td>\n",
       "      <td>1.0</td>\n",
       "      <td>1.0</td>\n",
       "      <td>1.0</td>\n",
       "      <td>1.0</td>\n",
       "      <td>1.0</td>\n",
       "      <td>...</td>\n",
       "      <td>1.0</td>\n",
       "      <td>1.0</td>\n",
       "      <td>1.0</td>\n",
       "      <td>1.0</td>\n",
       "      <td>1.0</td>\n",
       "      <td>1.0</td>\n",
       "      <td>1.0</td>\n",
       "      <td>1.0</td>\n",
       "      <td>1.0</td>\n",
       "      <td>1.0</td>\n",
       "    </tr>\n",
       "  </tbody>\n",
       "</table>\n",
       "<p>4 rows × 2352 columns</p>\n",
       "</div>"
      ],
      "text/plain": [
       "    x0   x1   x2   x3   x4   x5   x6   x7   x8   x9  ...  x2342  x2343  x2344  \\\n",
       "0  1.0  1.0  1.0  1.0  1.0  1.0  1.0  1.0  1.0  1.0  ...    1.0    1.0    1.0   \n",
       "1  1.0  1.0  1.0  1.0  1.0  1.0  1.0  1.0  1.0  1.0  ...    1.0    1.0    1.0   \n",
       "2  1.0  1.0  1.0  1.0  1.0  1.0  1.0  1.0  1.0  1.0  ...    1.0    1.0    1.0   \n",
       "3  1.0  1.0  1.0  1.0  1.0  1.0  1.0  1.0  1.0  1.0  ...    1.0    1.0    1.0   \n",
       "\n",
       "   x2345  x2346  x2347  x2348  x2349  x2350  x2351  \n",
       "0    1.0    1.0    1.0    1.0    1.0    1.0    1.0  \n",
       "1    1.0    1.0    1.0    1.0    1.0    1.0    1.0  \n",
       "2    1.0    1.0    1.0    1.0    1.0    1.0    1.0  \n",
       "3    1.0    1.0    1.0    1.0    1.0    1.0    1.0  \n",
       "\n",
       "[4 rows x 2352 columns]"
      ]
     },
     "execution_count": 6,
     "metadata": {},
     "output_type": "execute_result"
    }
   ],
   "source": [
    "data = data.reset_index(drop=True)\n",
    "data"
   ]
  },
  {
   "cell_type": "code",
   "execution_count": 24,
   "metadata": {},
   "outputs": [],
   "source": [
    "y = pd.DataFrame({\"Group\": [1, 1, 0, 0]})"
   ]
  },
  {
   "cell_type": "markdown",
   "metadata": {},
   "source": [
    "## Individual trials"
   ]
  },
  {
   "cell_type": "code",
   "execution_count": 43,
   "metadata": {},
   "outputs": [],
   "source": [
    "def trial_intra(data):\n",
    "    inputs = Input(shape=(2352,))\n",
    "    preds = Dense(1, activation=\"sigmoid\")(inputs)\n",
    "\n",
    "    model = Model(inputs=inputs, outputs=preds)\n",
    "    sgd = keras.optimizers.Adam(lr=0.001)\n",
    "    model.compile(optimizer=sgd, loss='binary_crossentropy', metrics=['accuracy'])\n",
    "\n",
    "    # Green 1, Red 0\n",
    "    y = pd.DataFrame({\"Group\": [1, 1, 0, 0]})\n",
    "    trials_rule1 = 0\n",
    "    trials_rule2 = 0\n",
    "    switch = False\n",
    "    c = 0\n",
    "    \n",
    "    while True:\n",
    "        model.fit(data, y, batch_size=1, verbose=0)\n",
    "        acc = model.history.history[\"acc\"][0]\n",
    "        \n",
    "        if acc == 1:\n",
    "            c += 1\n",
    "        else:\n",
    "            c = 0\n",
    "            \n",
    "        if switch:\n",
    "            trials_rule2 += 1\n",
    "        else:\n",
    "            trials_rule1 += 1\n",
    "            \n",
    "        if (c == 8) and not(switch):\n",
    "            y = pd.DataFrame({\"Group\": [0, 0, 1, 1]})\n",
    "            switch = True\n",
    "            c = 0\n",
    "            \n",
    "        if (c == 8) and switch:\n",
    "            return trials_rule1, trials_rule2"
   ]
  },
  {
   "cell_type": "code",
   "execution_count": 53,
   "metadata": {
    "scrolled": false
   },
   "outputs": [
    {
     "data": {
      "text/plain": [
       "(11, 17)"
      ]
     },
     "execution_count": 53,
     "metadata": {},
     "output_type": "execute_result"
    }
   ],
   "source": [
    "trial_intra(data)"
   ]
  },
  {
   "cell_type": "code",
   "execution_count": 54,
   "metadata": {},
   "outputs": [],
   "source": [
    "def trial_inter(data):\n",
    "    inputs = Input(shape=(2352,))\n",
    "    preds = Dense(1, activation=\"sigmoid\")(inputs)\n",
    "\n",
    "    model = Model(inputs=inputs, outputs=preds)\n",
    "    sgd = keras.optimizers.Adam(lr=0.001)\n",
    "    model.compile(optimizer=sgd, loss='binary_crossentropy', metrics=['accuracy'])\n",
    "\n",
    "    # Green 1, Red 0\n",
    "    y = pd.DataFrame({\"Group\": [1, 1, 0, 0]})\n",
    "    trials_rule1 = 0\n",
    "    trials_rule2 = 0\n",
    "    switch = False\n",
    "    c = 0\n",
    "    \n",
    "    while True:\n",
    "        model.fit(data, y, batch_size=1, verbose=0)\n",
    "        acc = model.history.history[\"acc\"][0]\n",
    "        \n",
    "        if acc == 1:\n",
    "            c += 1\n",
    "        else:\n",
    "            c = 0\n",
    "            \n",
    "        if switch:\n",
    "            trials_rule2 += 1\n",
    "        else:\n",
    "            trials_rule1 += 1\n",
    "            \n",
    "        if (c == 8) and not(switch):\n",
    "            y = pd.DataFrame({\"Group\": [1, 0, 1, 0]})\n",
    "            switch = True\n",
    "            c = 0\n",
    "            \n",
    "        if (c == 8) and switch:\n",
    "            return trials_rule1, trials_rule2"
   ]
  },
  {
   "cell_type": "code",
   "execution_count": 66,
   "metadata": {},
   "outputs": [
    {
     "data": {
      "text/plain": [
       "(15, 15)"
      ]
     },
     "execution_count": 66,
     "metadata": {},
     "output_type": "execute_result"
    }
   ],
   "source": [
    "trial_inter(data)"
   ]
  },
  {
   "cell_type": "markdown",
   "metadata": {},
   "source": [
    "## Automated"
   ]
  },
  {
   "cell_type": "code",
   "execution_count": 35,
   "metadata": {},
   "outputs": [],
   "source": [
    "circles = [\"big green\", \"small green\", \"big red\", \"small red\"]"
   ]
  },
  {
   "cell_type": "code",
   "execution_count": 36,
   "metadata": {},
   "outputs": [
    {
     "data": {
      "text/plain": [
       "'big red'"
      ]
     },
     "execution_count": 36,
     "metadata": {},
     "output_type": "execute_result"
    }
   ],
   "source": [
    "first = np.random.choice(circles)\n",
    "first"
   ]
  },
  {
   "cell_type": "code",
   "execution_count": 37,
   "metadata": {},
   "outputs": [],
   "source": [
    "circles.remove(first)"
   ]
  },
  {
   "cell_type": "code",
   "execution_count": 38,
   "metadata": {},
   "outputs": [
    {
     "data": {
      "text/plain": [
       "['big green', 'small green', 'small red']"
      ]
     },
     "execution_count": 38,
     "metadata": {},
     "output_type": "execute_result"
    }
   ],
   "source": [
    "circles"
   ]
  },
  {
   "cell_type": "code",
   "execution_count": 39,
   "metadata": {},
   "outputs": [],
   "source": [
    "for x in circles:\n",
    "    if (first.split()[0] not in x) and (first.split()[1] not in x):\n",
    "        circles.remove(x)"
   ]
  },
  {
   "cell_type": "code",
   "execution_count": 40,
   "metadata": {},
   "outputs": [
    {
     "data": {
      "text/plain": [
       "['big green', 'small red']"
      ]
     },
     "execution_count": 40,
     "metadata": {},
     "output_type": "execute_result"
    }
   ],
   "source": [
    "circles"
   ]
  },
  {
   "cell_type": "code",
   "execution_count": 41,
   "metadata": {},
   "outputs": [
    {
     "data": {
      "text/plain": [
       "('big red', 'big green')"
      ]
     },
     "execution_count": 41,
     "metadata": {},
     "output_type": "execute_result"
    }
   ],
   "source": [
    "second = np.random.choice(circles)\n",
    "circles.remove(second)\n",
    "first, second"
   ]
  },
  {
   "cell_type": "code",
   "execution_count": 42,
   "metadata": {},
   "outputs": [],
   "source": [
    "inter = np.random.randint(0,2)\n",
    "if inter:\n",
    "    if first.split()[0] == second.split()[0]:\n",
    "        new_positive = (first, second)[np.random.randint(0,2)].split()[1]\n",
    "    else:\n",
    "        new_positive = (first, second)[np.random.randint(0,2)].split()[0]\n",
    "else:\n",
    "    if first.split()[0] == second.split()[0]:\n",
    "        new_positive = circles[0].split()[0]\n",
    "    else:\n",
    "        new_positive = circles[0].split()[1]"
   ]
  },
  {
   "cell_type": "code",
   "execution_count": 43,
   "metadata": {},
   "outputs": [
    {
     "data": {
      "text/plain": [
       "0"
      ]
     },
     "execution_count": 43,
     "metadata": {},
     "output_type": "execute_result"
    }
   ],
   "source": [
    "inter"
   ]
  },
  {
   "cell_type": "code",
   "execution_count": 44,
   "metadata": {},
   "outputs": [
    {
     "data": {
      "text/plain": [
       "'small'"
      ]
     },
     "execution_count": 44,
     "metadata": {},
     "output_type": "execute_result"
    }
   ],
   "source": [
    "new_positive"
   ]
  },
  {
   "cell_type": "code",
   "execution_count": 45,
   "metadata": {},
   "outputs": [],
   "source": [
    "circles = [\"big green\", \"small green\", \"big red\", \"small red\"]"
   ]
  },
  {
   "cell_type": "code",
   "execution_count": 46,
   "metadata": {},
   "outputs": [],
   "source": [
    "i = 0\n",
    "while i < len(circles):\n",
    "    if new_positive not in circles[i]:\n",
    "        del circles[i]\n",
    "    else:\n",
    "        i += 1"
   ]
  },
  {
   "cell_type": "code",
   "execution_count": 47,
   "metadata": {},
   "outputs": [
    {
     "data": {
      "text/plain": [
       "['small green', 'small red']"
      ]
     },
     "execution_count": 47,
     "metadata": {},
     "output_type": "execute_result"
    }
   ],
   "source": [
    "circles"
   ]
  },
  {
   "cell_type": "code",
   "execution_count": 25,
   "metadata": {},
   "outputs": [],
   "source": [
    "circles_dict = {\n",
    "    \"big green\": 0,\n",
    "    \"small green\": 1,\n",
    "    \"big red\": 2,\n",
    "    \"small red\": 3\n",
    "}"
   ]
  },
  {
   "cell_type": "code",
   "execution_count": 57,
   "metadata": {},
   "outputs": [],
   "source": [
    "def trial(data, circles_dict):\n",
    "    # Define model\n",
    "    inputs = Input(shape=(2352,))\n",
    "    preds = Dense(1, activation=\"sigmoid\")(inputs)\n",
    "    model = Model(inputs=inputs, outputs=preds)\n",
    "    sgd = keras.optimizers.Adam(lr=0.001)\n",
    "    model.compile(optimizer=sgd, loss='binary_crossentropy', metrics=['accuracy'])\n",
    "    \n",
    "    # For plot\n",
    "    acc_list = []\n",
    "\n",
    "    # Decide phase 1 rule\n",
    "    circles = [\"big green\", \"small green\", \"big red\", \"small red\"]\n",
    "    first = np.random.choice(circles)\n",
    "    circles.remove(first)\n",
    "    \n",
    "    for x in circles:\n",
    "        if (first.split()[0] not in x) and (first.split()[1] not in x):\n",
    "            circles.remove(x)\n",
    "            \n",
    "    second = np.random.choice(circles)\n",
    "    circles.remove(second)\n",
    "    rule1 = []\n",
    "    \n",
    "    for key in circles_dict.keys():\n",
    "        if (key == first) or (key == second):\n",
    "            rule1.append(1)\n",
    "        else:\n",
    "            rule1.append(0)\n",
    "            \n",
    "    y = pd.DataFrame({\"Group\": rule1})\n",
    "    \n",
    "    # Decide phase 2 rule\n",
    "    switch_type = np.random.choice([\"inter\", \"intra\"])\n",
    "    \n",
    "    if switch_type == \"inter\":\n",
    "        if first.split()[0] == second.split()[0]:\n",
    "            new_positive = (first, second)[np.random.randint(0,2)].split()[1]\n",
    "        else:\n",
    "            new_positive = (first, second)[np.random.randint(0,2)].split()[0]\n",
    "    else:\n",
    "        if first.split()[0] == second.split()[0]:\n",
    "            new_positive = circles[0].split()[0]\n",
    "        else:\n",
    "            new_positive = circles[0].split()[1]\n",
    "            \n",
    "    circles = [\"big green\", \"small green\", \"big red\", \"small red\"]\n",
    "    i = 0\n",
    "    \n",
    "    while i < len(circles):\n",
    "        if new_positive not in circles[i]:\n",
    "            del circles[i]\n",
    "        else:\n",
    "            i += 1\n",
    "            \n",
    "    rule2 = []\n",
    "    \n",
    "    for key in circles_dict.keys():\n",
    "        if (key == circles[0]) or (key == circles[1]):\n",
    "            rule2.append(1)\n",
    "        else:\n",
    "            rule2.append(0)\n",
    "    \n",
    "    # Initialize variables\n",
    "    trials_rule1 = 0\n",
    "    trials_rule2 = 0\n",
    "    switch = False\n",
    "    c = 0\n",
    "    \n",
    "    while True:\n",
    "        model.fit(data, y, batch_size=1, verbose=0)\n",
    "        acc = model.history.history[\"acc\"][0]\n",
    "        acc_list.append(acc)\n",
    "        \n",
    "        if acc == 1:\n",
    "            c += 1\n",
    "        else:\n",
    "            c = 0\n",
    "            \n",
    "        if switch:\n",
    "            trials_rule2 += 1\n",
    "        else:\n",
    "            trials_rule1 += 1\n",
    "            \n",
    "        if (c == 8) and not(switch):\n",
    "            y = pd.DataFrame({\"Group\": rule2})\n",
    "            switch = True\n",
    "            c = 0\n",
    "            \n",
    "        if (c == 8) and switch:\n",
    "            plt.figure(figsize=(10,6))\n",
    "            plt.plot(acc_list, color=(74/255, 136/255, 144/255), linewidth=2)\n",
    "            plt.ylabel(\"Proporción de aciertos\", fontdict = {'fontsize': 20})\n",
    "            plt.xlabel(\"Número de ensayos\", fontdict = {'fontsize': 20})\n",
    "            plt.title(\"Curva de aprendizaje\", fontdict = {'fontsize': 30})\n",
    "            return trials_rule1, trials_rule2, switch_type"
   ]
  },
  {
   "cell_type": "code",
   "execution_count": 65,
   "metadata": {},
   "outputs": [
    {
     "data": {
      "text/plain": [
       "(13, 15, 'inter')"
      ]
     },
     "execution_count": 65,
     "metadata": {},
     "output_type": "execute_result"
    },
    {
     "data": {
      "image/png": "[encoded data removed]",
      "text/plain": [
       "<Figure size 720x432 with 1 Axes>"
      ]
     },
     "metadata": {
      "needs_background": "light"
     },
     "output_type": "display_data"
    }
   ],
   "source": [
    "trial(data, circles_dict)"
   ]
  },
  {
   "cell_type": "code",
   "execution_count": 7,
   "metadata": {},
   "outputs": [],
   "source": [
    "def experiment(file, trials, data, circles_dict):\n",
    "    try:\n",
    "        results = pd.read_pickle(file)\n",
    "    except:\n",
    "        results = pd.DataFrame()\n",
    "    \n",
    "    for i in tqdm(range(trials)):\n",
    "        trials_rule1, trials_rule2, switch_type = trial(data, circles_dict)\n",
    "        results = results.append(pd.DataFrame({\"Trials_rule1\": [trials_rule1], \n",
    "                                               \"Trials_rule2\": [trials_rule2], \n",
    "                                               \"Switch_type\": [switch_type]}))\n",
    "        results.to_pickle(file)"
   ]
  },
  {
   "cell_type": "code",
   "execution_count": 12,
   "metadata": {},
   "outputs": [
    {
     "data": {
      "application/vnd.jupyter.widget-view+json": {
       "model_id": "98e68cdca2df4a87ba29dc571e3d4ed1",
       "version_major": 2,
       "version_minor": 0
      },
      "text/plain": [
       "HBox(children=(IntProgress(value=0, max=8), HTML(value='')))"
      ]
     },
     "metadata": {},
     "output_type": "display_data"
    }
   ],
   "source": [
    "experiment(\"results.pkl\", 8, data, circles_dict)"
   ]
  },
  {
   "cell_type": "code",
   "execution_count": 13,
   "metadata": {},
   "outputs": [],
   "source": [
    "a = pd.read_pickle(\"results.pkl\")"
   ]
  },
  {
   "cell_type": "code",
   "execution_count": 14,
   "metadata": {},
   "outputs": [
    {
     "data": {
      "text/plain": [
       "(600, 3)"
      ]
     },
     "execution_count": 14,
     "metadata": {},
     "output_type": "execute_result"
    }
   ],
   "source": [
    "a.shape"
   ]
  },
  {
   "cell_type": "code",
   "execution_count": 15,
   "metadata": {},
   "outputs": [
    {
     "data": {
      "text/html": [
       "<div>\n",
       "<style scoped>\n",
       "    .dataframe tbody tr th:only-of-type {\n",
       "        vertical-align: middle;\n",
       "    }\n",
       "\n",
       "    .dataframe tbody tr th {\n",
       "        vertical-align: top;\n",
       "    }\n",
       "\n",
       "    .dataframe thead th {\n",
       "        text-align: right;\n",
       "    }\n",
       "</style>\n",
       "<table border=\"1\" class=\"dataframe\">\n",
       "  <thead>\n",
       "    <tr style=\"text-align: right;\">\n",
       "      <th></th>\n",
       "      <th>Trials_rule1</th>\n",
       "      <th>Trials_rule2</th>\n",
       "      <th>Switch_type</th>\n",
       "    </tr>\n",
       "  </thead>\n",
       "  <tbody>\n",
       "    <tr>\n",
       "      <th>0</th>\n",
       "      <td>12</td>\n",
       "      <td>18</td>\n",
       "      <td>intra</td>\n",
       "    </tr>\n",
       "    <tr>\n",
       "      <th>0</th>\n",
       "      <td>12</td>\n",
       "      <td>14</td>\n",
       "      <td>inter</td>\n",
       "    </tr>\n",
       "    <tr>\n",
       "      <th>0</th>\n",
       "      <td>14</td>\n",
       "      <td>18</td>\n",
       "      <td>intra</td>\n",
       "    </tr>\n",
       "    <tr>\n",
       "      <th>0</th>\n",
       "      <td>12</td>\n",
       "      <td>17</td>\n",
       "      <td>intra</td>\n",
       "    </tr>\n",
       "    <tr>\n",
       "      <th>0</th>\n",
       "      <td>11</td>\n",
       "      <td>14</td>\n",
       "      <td>inter</td>\n",
       "    </tr>\n",
       "  </tbody>\n",
       "</table>\n",
       "</div>"
      ],
      "text/plain": [
       "   Trials_rule1  Trials_rule2 Switch_type\n",
       "0            12            18       intra\n",
       "0            12            14       inter\n",
       "0            14            18       intra\n",
       "0            12            17       intra\n",
       "0            11            14       inter"
      ]
     },
     "execution_count": 15,
     "metadata": {},
     "output_type": "execute_result"
    }
   ],
   "source": [
    "a.tail()"
   ]
  },
  {
   "cell_type": "code",
   "execution_count": 34,
   "metadata": {},
   "outputs": [],
   "source": [
    "y = pd.DataFrame({\"Group\": [1, 0, 1, 0]})"
   ]
  },
  {
   "cell_type": "code",
   "execution_count": 35,
   "metadata": {},
   "outputs": [
    {
     "data": {
      "image/png": "[encoded data removed]",
      "text/plain": [
       "<Figure size 864x576 with 2 Axes>"
      ]
     },
     "metadata": {
      "needs_background": "light"
     },
     "output_type": "display_data"
    },
    {
     "name": "stdout",
     "output_type": "stream",
     "text": [
      "Log-loss (cost function):\n",
      "training   (min:    0.041, max:    1.341, cur:    0.041)\n",
      "\n",
      "Accuracy:\n",
      "training   (min:    0.250, max:    1.000, cur:    1.000)\n"
     ]
    }
   ],
   "source": [
    "inputs = Input(shape=(2352,))\n",
    "preds = Dense(1, activation=\"sigmoid\")(inputs)\n",
    "model = Model(inputs=inputs, outputs=preds)\n",
    "sgd = keras.optimizers.Adam(lr=0.001)\n",
    "model.compile(optimizer=sgd, loss='binary_crossentropy', metrics=['accuracy'])\n",
    "\n",
    "history = model.fit(data, y, batch_size=1, epochs=20, verbose=0,\n",
    "                    callbacks=[PlotLossesKeras()])"
   ]
  },
  {
   "cell_type": "code",
   "execution_count": 42,
   "metadata": {},
   "outputs": [
    {
     "data": {
      "text/plain": [
       "<matplotlib.colorbar.Colorbar at 0xb92705a4e0>"
      ]
     },
     "execution_count": 42,
     "metadata": {},
     "output_type": "execute_result"
    },
    {
     "data": {
      "image/png": "[encoded data removed]",
      "text/plain": [
       "<Figure size 432x288 with 2 Axes>"
      ]
     },
     "metadata": {
      "needs_background": "light"
     },
     "output_type": "display_data"
    }
   ],
   "source": [
    "plt.imshow(model.get_weights()[0][28*28*2:3*28*28,0].reshape(28, 28))\n",
    "plt.colorbar()"
   ]
  },
  {
   "cell_type": "markdown",
   "metadata": {},
   "source": [
    "## Adding hidden layer"
   ]
  },
  {
   "cell_type": "code",
   "execution_count": 943,
   "metadata": {},
   "outputs": [],
   "source": [
    "def trial_intra(data):\n",
    "    inputs = Input(shape=(2352,))\n",
    "    hidden = Dense(4, activation=\"relu\", kernel_regularizer=l2(1))(inputs)\n",
    "    preds = Dense(1, activation=\"sigmoid\")(hidden)\n",
    "\n",
    "    model = Model(inputs=inputs, outputs=preds)\n",
    "    sgd = keras.optimizers.Adam(lr=0.0001)\n",
    "    model.compile(optimizer=sgd, loss='binary_crossentropy', metrics=['accuracy'])\n",
    "\n",
    "    # Green 1, Red 0\n",
    "    y = pd.DataFrame({\"Group\": [1, 1, 0, 0]})\n",
    "    trials_rule1 = 0\n",
    "    trials_rule2 = 0\n",
    "    switch = False\n",
    "    c = 0\n",
    "    \n",
    "    while True:\n",
    "        model.fit(data, y, batch_size=1, verbose=0)\n",
    "        acc = model.history.history[\"acc\"][0]\n",
    "        \n",
    "        if acc == 1:\n",
    "            c += 1\n",
    "        else:\n",
    "            c = 0\n",
    "            \n",
    "        if switch:\n",
    "            trials_rule2 += 1\n",
    "        else:\n",
    "            trials_rule1 += 1\n",
    "            \n",
    "        if (c == 8) and not(switch):\n",
    "            y = pd.DataFrame({\"Group\": [0, 0, 1, 1]})\n",
    "            switch = True\n",
    "            c = 0\n",
    "            \n",
    "        if (c == 8) and switch:\n",
    "            return trials_rule1, trials_rule2"
   ]
  },
  {
   "cell_type": "code",
   "execution_count": 949,
   "metadata": {},
   "outputs": [
    {
     "data": {
      "text/plain": [
       "(168, 397)"
      ]
     },
     "execution_count": 949,
     "metadata": {},
     "output_type": "execute_result"
    }
   ],
   "source": [
    "trial_intra(data)"
   ]
  },
  {
   "cell_type": "code",
   "execution_count": 719,
   "metadata": {},
   "outputs": [],
   "source": [
    "inputs = Input(shape=(2352,))\n",
    "hidden = Dense(4, activation=\"relu\", kernel_regularizer=l2(1))(inputs)\n",
    "preds = Dense(1, activation=\"sigmoid\")(hidden)\n",
    "\n",
    "model = Model(inputs=inputs, outputs=preds)\n",
    "sgd = keras.optimizers.Adam(lr=0.0001)\n",
    "model.compile(optimizer=sgd, loss='binary_crossentropy', metrics=['accuracy'])"
   ]
  },
  {
   "cell_type": "code",
   "execution_count": 720,
   "metadata": {},
   "outputs": [],
   "source": [
    "y = pd.DataFrame({\"Group\": [1, 1, 0, 0]})"
   ]
  },
  {
   "cell_type": "code",
   "execution_count": 748,
   "metadata": {},
   "outputs": [
    {
     "name": "stdout",
     "output_type": "stream",
     "text": [
      "Epoch 1/1\n",
      "4/4 [==============================] - ETA: 0s - loss: 5.0380 - acc: 1.000 - 0s 5ms/step - loss: 5.3008 - acc: 1.0000\n"
     ]
    },
    {
     "data": {
      "text/plain": [
       "<keras.callbacks.History at 0x209135fab00>"
      ]
     },
     "execution_count": 748,
     "metadata": {},
     "output_type": "execute_result"
    }
   ],
   "source": [
    "model.fit(data, y, batch_size=1)"
   ]
  },
  {
   "cell_type": "code",
   "execution_count": 749,
   "metadata": {},
   "outputs": [],
   "source": [
    "y = pd.DataFrame({\"Group\": [0, 0, 1, 1]})"
   ]
  },
  {
   "cell_type": "code",
   "execution_count": 942,
   "metadata": {},
   "outputs": [
    {
     "name": "stdout",
     "output_type": "stream",
     "text": [
      "Epoch 1/1\n",
      "4/4 [==============================] - ETA: 0s - loss: 1.0178 - acc: 1.000 - 0s 5ms/step - loss: 1.0178 - acc: 0.5000\n"
     ]
    },
    {
     "data": {
      "text/plain": [
       "<keras.callbacks.History at 0x20915a20208>"
      ]
     },
     "execution_count": 942,
     "metadata": {},
     "output_type": "execute_result"
    }
   ],
   "source": [
    "model.fit(data, y, batch_size=1)"
   ]
  },
  {
   "cell_type": "code",
   "execution_count": 950,
   "metadata": {},
   "outputs": [],
   "source": [
    "def trial_inter(data):\n",
    "    inputs = Input(shape=(2352,))\n",
    "    hidden = Dense(4, activation=\"relu\", kernel_regularizer=l2(1))(inputs)\n",
    "    preds = Dense(1, activation=\"sigmoid\")(hidden)\n",
    "\n",
    "    model = Model(inputs=inputs, outputs=preds)\n",
    "    sgd = keras.optimizers.Adam(lr=0.0001)\n",
    "    model.compile(optimizer=sgd, loss='binary_crossentropy', metrics=['accuracy'])\n",
    "\n",
    "    # Green 1, Red 0\n",
    "    y = pd.DataFrame({\"Group\": [1, 1, 0, 0]})\n",
    "    trials_rule1 = 0\n",
    "    trials_rule2 = 0\n",
    "    switch = False\n",
    "    c = 0\n",
    "    \n",
    "    while True:\n",
    "        model.fit(data, y, batch_size=1, verbose=0)\n",
    "        acc = model.history.history[\"acc\"][0]\n",
    "        \n",
    "        if acc == 1:\n",
    "            c += 1\n",
    "        else:\n",
    "            c = 0\n",
    "            \n",
    "        if switch:\n",
    "            trials_rule2 += 1\n",
    "        else:\n",
    "            trials_rule1 += 1\n",
    "            \n",
    "        if (c == 8) and not(switch):\n",
    "            y = pd.DataFrame({\"Group\": [1, 0, 1, 0]})\n",
    "            switch = True\n",
    "            c = 0\n",
    "            \n",
    "        if (c == 8) and switch:\n",
    "            return trials_rule1, trials_rule2"
   ]
  },
  {
   "cell_type": "code",
   "execution_count": 957,
   "metadata": {},
   "outputs": [
    {
     "data": {
      "text/plain": [
       "(11, 21)"
      ]
     },
     "execution_count": 957,
     "metadata": {},
     "output_type": "execute_result"
    }
   ],
   "source": [
    "trial_inter(data)"
   ]
  },
  {
   "cell_type": "code",
   "execution_count": 958,
   "metadata": {},
   "outputs": [],
   "source": [
    "circles_dict = {\n",
    "    \"big green\": 0,\n",
    "    \"small green\": 1,\n",
    "    \"big red\": 2,\n",
    "    \"small red\": 3\n",
    "}"
   ]
  },
  {
   "cell_type": "code",
   "execution_count": 966,
   "metadata": {},
   "outputs": [],
   "source": [
    "def trial(data, circles_dict):\n",
    "    # Define model\n",
    "    inputs = Input(shape=(2352,))\n",
    "    hidden = Dense(4, activation=\"relu\", kernel_regularizer=l2(1))(inputs)\n",
    "    preds = Dense(1, activation=\"sigmoid\")(hidden)\n",
    "\n",
    "    model = Model(inputs=inputs, outputs=preds)\n",
    "    sgd = keras.optimizers.Adam(lr=0.0001)\n",
    "    model.compile(optimizer=sgd, loss='binary_crossentropy', metrics=['accuracy'])\n",
    "\n",
    "    # Decide phase 1 rule\n",
    "    circles = [\"big green\", \"small green\", \"big red\", \"small red\"]\n",
    "    first = np.random.choice(circles)\n",
    "    circles.remove(first)\n",
    "    \n",
    "    for x in circles:\n",
    "        if (first.split()[0] not in x) and (first.split()[1] not in x):\n",
    "            circles.remove(x)\n",
    "            \n",
    "    second = np.random.choice(circles)\n",
    "    circles.remove(second)\n",
    "    rule1 = []\n",
    "    \n",
    "    for key in circles_dict.keys():\n",
    "        if (key == first) or (key == second):\n",
    "            rule1.append(1)\n",
    "        else:\n",
    "            rule1.append(0)\n",
    "            \n",
    "    y = pd.DataFrame({\"Group\": rule1})\n",
    "    \n",
    "    # Decide phase 2 rule\n",
    "    switch_type = np.random.choice([\"inter\", \"intra\"])\n",
    "    \n",
    "    if switch_type == \"inter\":\n",
    "        if first.split()[0] == second.split()[0]:\n",
    "            new_positive = (first, second)[np.random.randint(0,2)].split()[1]\n",
    "        else:\n",
    "            new_positive = (first, second)[np.random.randint(0,2)].split()[0]\n",
    "    else:\n",
    "        if first.split()[0] == second.split()[0]:\n",
    "            new_positive = circles[0].split()[0]\n",
    "        else:\n",
    "            new_positive = circles[0].split()[1]\n",
    "            \n",
    "    circles = [\"big green\", \"small green\", \"big red\", \"small red\"]\n",
    "    i = 0\n",
    "    \n",
    "    while i < len(circles):\n",
    "        if new_positive not in circles[i]:\n",
    "            del circles[i]\n",
    "        else:\n",
    "            i += 1\n",
    "            \n",
    "    rule2 = []\n",
    "    \n",
    "    for key in circles_dict.keys():\n",
    "        if (key == circles[0]) or (key == circles[1]):\n",
    "            rule2.append(1)\n",
    "        else:\n",
    "            rule2.append(0)\n",
    "    \n",
    "    # Initialize variables\n",
    "    trials_rule1 = 0\n",
    "    trials_rule2 = 0\n",
    "    switch = False\n",
    "    c = 0\n",
    "    \n",
    "    while True:\n",
    "        model.fit(data, y, batch_size=1, verbose=0)\n",
    "        acc = model.history.history[\"acc\"][0]\n",
    "        \n",
    "        if acc == 1:\n",
    "            c += 1\n",
    "        else:\n",
    "            c = 0\n",
    "            \n",
    "        if switch:\n",
    "            trials_rule2 += 1\n",
    "        else:\n",
    "            trials_rule1 += 1\n",
    "            \n",
    "        if (c == 8) and not(switch):\n",
    "            y = pd.DataFrame({\"Group\": rule2})\n",
    "            switch = True\n",
    "            c = 0\n",
    "            \n",
    "        if (c == 8) and switch:\n",
    "            return trials_rule1, trials_rule2, switch_type\n",
    "        \n",
    "        if trials_rule2 >= 500:\n",
    "            return [None]*3"
   ]
  },
  {
   "cell_type": "code",
   "execution_count": 967,
   "metadata": {},
   "outputs": [],
   "source": [
    "def experiment(file, trials, data, circles_dict):\n",
    "    try:\n",
    "        results = pd.read_pickle(file)\n",
    "    except:\n",
    "        results = pd.DataFrame()\n",
    "    \n",
    "    for i in tqdm(range(trials)):\n",
    "        trials_rule1, trials_rule2, switch_type = trial(data, circles_dict)\n",
    "        results = results.append(pd.DataFrame({\"Trials_rule1\": [trials_rule1], \n",
    "                                               \"Trials_rule2\": [trials_rule2], \n",
    "                                               \"Switch_type\": [switch_type]}))\n",
    "        results.to_pickle(file)"
   ]
  },
  {
   "cell_type": "code",
   "execution_count": 973,
   "metadata": {},
   "outputs": [
    {
     "data": {
      "application/vnd.jupyter.widget-view+json": {
       "model_id": "2644d1e6960247c3ad0fa943b51cb950",
       "version_major": 2,
       "version_minor": 0
      },
      "text/plain": [
       "HBox(children=(IntProgress(value=0, max=15), HTML(value='')))"
      ]
     },
     "metadata": {},
     "output_type": "display_data"
    }
   ],
   "source": [
    "experiment(\"results-hidden.pkl\", 15, data, circles_dict)"
   ]
  },
  {
   "cell_type": "code",
   "execution_count": 974,
   "metadata": {},
   "outputs": [],
   "source": [
    "a = pd.read_pickle(\"results-hidden.pkl\")"
   ]
  },
  {
   "cell_type": "code",
   "execution_count": 975,
   "metadata": {},
   "outputs": [
    {
     "data": {
      "text/plain": [
       "(100, 3)"
      ]
     },
     "execution_count": 975,
     "metadata": {},
     "output_type": "execute_result"
    }
   ],
   "source": [
    "a.shape"
   ]
  },
  {
   "cell_type": "markdown",
   "metadata": {},
   "source": [
    "## Dropout distractor"
   ]
  },
  {
   "cell_type": "code",
   "execution_count": 1027,
   "metadata": {},
   "outputs": [],
   "source": [
    "inputs = Input(shape=(2352,))\n",
    "dropout = Dropout(0.5)(inputs)\n",
    "hidden = Dense(4, activation=\"relu\", kernel_regularizer=l2(1))(dropout)\n",
    "preds = Dense(1, activation=\"sigmoid\")(hidden)\n",
    "\n",
    "model = Model(inputs=inputs, outputs=preds)\n",
    "sgd = keras.optimizers.Adam(lr=0.0001)\n",
    "model.compile(optimizer=sgd, loss='binary_crossentropy', metrics=['accuracy'])"
   ]
  },
  {
   "cell_type": "code",
   "execution_count": 1028,
   "metadata": {},
   "outputs": [],
   "source": [
    "y = pd.DataFrame({\"Group\": [1, 1, 0, 0]})"
   ]
  },
  {
   "cell_type": "code",
   "execution_count": 1052,
   "metadata": {},
   "outputs": [
    {
     "name": "stdout",
     "output_type": "stream",
     "text": [
      "Epoch 1/1\n",
      "4/4 [==============================] - ETA: 0s - loss: 6.6974 - acc: 1.000 - 0s 14ms/step - loss: 7.3137 - acc: 0.5000\n"
     ]
    },
    {
     "data": {
      "text/plain": [
       "<keras.callbacks.History at 0x20a29d7b668>"
      ]
     },
     "execution_count": 1052,
     "metadata": {},
     "output_type": "execute_result"
    }
   ],
   "source": [
    "model.fit(data, y, batch_size=1)"
   ]
  },
  {
   "cell_type": "code",
   "execution_count": 1053,
   "metadata": {},
   "outputs": [],
   "source": [
    "y = pd.DataFrame({\"Group\": [0, 0, 1, 1]})"
   ]
  },
  {
   "cell_type": "code",
   "execution_count": 1130,
   "metadata": {},
   "outputs": [
    {
     "name": "stdout",
     "output_type": "stream",
     "text": [
      "Epoch 1/1\n",
      "4/4 [==============================] - ETA: 0s - loss: 4.0380 - acc: 1.000 - 0s 16ms/step - loss: 4.4142 - acc: 0.7500\n"
     ]
    },
    {
     "data": {
      "text/plain": [
       "<keras.callbacks.History at 0x20a29da17f0>"
      ]
     },
     "execution_count": 1130,
     "metadata": {},
     "output_type": "execute_result"
    }
   ],
   "source": [
    "model.fit(data, y, batch_size=1)"
   ]
  },
  {
   "cell_type": "code",
   "execution_count": 1024,
   "metadata": {},
   "outputs": [],
   "source": [
    "def trial(data, circles_dict):\n",
    "    # Define model\n",
    "    inputs = Input(shape=(2352,))\n",
    "    dropout = Dropout(0.5)(inputs)\n",
    "    preds = Dense(1, activation=\"sigmoid\")(dropout)\n",
    "\n",
    "    model = Model(inputs=inputs, outputs=preds)\n",
    "    sgd = keras.optimizers.Adam(lr=0.001)\n",
    "    model.compile(optimizer=sgd, loss='binary_crossentropy', metrics=['accuracy'])\n",
    "\n",
    "    # Decide phase 1 rule\n",
    "    circles = [\"big green\", \"small green\", \"big red\", \"small red\"]\n",
    "    first = np.random.choice(circles)\n",
    "    circles.remove(first)\n",
    "    \n",
    "    for x in circles:\n",
    "        if (first.split()[0] not in x) and (first.split()[1] not in x):\n",
    "            circles.remove(x)\n",
    "            \n",
    "    second = np.random.choice(circles)\n",
    "    circles.remove(second)\n",
    "    rule1 = []\n",
    "    \n",
    "    for key in circles_dict.keys():\n",
    "        if (key == first) or (key == second):\n",
    "            rule1.append(1)\n",
    "        else:\n",
    "            rule1.append(0)\n",
    "            \n",
    "    y = pd.DataFrame({\"Group\": rule1})\n",
    "    \n",
    "    # Decide phase 2 rule\n",
    "    switch_type = np.random.choice([\"inter\", \"intra\"])\n",
    "    \n",
    "    if switch_type == \"inter\":\n",
    "        if first.split()[0] == second.split()[0]:\n",
    "            new_positive = (first, second)[np.random.randint(0,2)].split()[1]\n",
    "        else:\n",
    "            new_positive = (first, second)[np.random.randint(0,2)].split()[0]\n",
    "    else:\n",
    "        if first.split()[0] == second.split()[0]:\n",
    "            new_positive = circles[0].split()[0]\n",
    "        else:\n",
    "            new_positive = circles[0].split()[1]\n",
    "            \n",
    "    circles = [\"big green\", \"small green\", \"big red\", \"small red\"]\n",
    "    i = 0\n",
    "    \n",
    "    while i < len(circles):\n",
    "        if new_positive not in circles[i]:\n",
    "            del circles[i]\n",
    "        else:\n",
    "            i += 1\n",
    "            \n",
    "    rule2 = []\n",
    "    \n",
    "    for key in circles_dict.keys():\n",
    "        if (key == circles[0]) or (key == circles[1]):\n",
    "            rule2.append(1)\n",
    "        else:\n",
    "            rule2.append(0)\n",
    "    \n",
    "    # Initialize variables\n",
    "    trials_rule1 = 0\n",
    "    trials_rule2 = 0\n",
    "    switch = False\n",
    "    c = 0\n",
    "    \n",
    "    while True:\n",
    "        model.fit(data, y, batch_size=1, verbose=0)\n",
    "        acc = model.history.history[\"acc\"][0]\n",
    "        \n",
    "        if acc == 1:\n",
    "            c += 1\n",
    "        else:\n",
    "            c = 0\n",
    "            \n",
    "        if switch:\n",
    "            trials_rule2 += 1\n",
    "        else:\n",
    "            trials_rule1 += 1\n",
    "            \n",
    "        if (c == 8) and not(switch):\n",
    "            y = pd.DataFrame({\"Group\": rule2})\n",
    "            switch = True\n",
    "            c = 0\n",
    "            \n",
    "        if (c == 8) and switch:\n",
    "            return trials_rule1, trials_rule2, switch_type\n",
    "        \n",
    "        if trials_rule2 >= 500:\n",
    "            return [None]*3"
   ]
  },
  {
   "cell_type": "code",
   "execution_count": 1025,
   "metadata": {},
   "outputs": [],
   "source": [
    "def experiment(file, trials, data, circles_dict):\n",
    "    try:\n",
    "        results = pd.read_pickle(file)\n",
    "    except:\n",
    "        results = pd.DataFrame()\n",
    "    \n",
    "    for i in tqdm(range(trials)):\n",
    "        trials_rule1, trials_rule2, switch_type = trial(data, circles_dict)\n",
    "        results = results.append(pd.DataFrame({\"Trials_rule1\": [trials_rule1], \n",
    "                                               \"Trials_rule2\": [trials_rule2], \n",
    "                                               \"Switch_type\": [switch_type]}))\n",
    "        results.to_pickle(file)"
   ]
  },
  {
   "cell_type": "code",
   "execution_count": 1026,
   "metadata": {},
   "outputs": [
    {
     "data": {
      "application/vnd.jupyter.widget-view+json": {
       "model_id": "251ff2f7460b4ccaaa07215ba9735528",
       "version_major": 2,
       "version_minor": 0
      },
      "text/plain": [
       "HBox(children=(IntProgress(value=0), HTML(value='')))"
      ]
     },
     "metadata": {},
     "output_type": "display_data"
    }
   ],
   "source": [
    "results = experiment(\"results-distractor.pkl\", 100, data, circles_dict)"
   ]
  },
  {
   "cell_type": "markdown",
   "metadata": {},
   "source": [
    "## Looking for hypothesis testing"
   ]
  },
  {
   "cell_type": "code",
   "execution_count": 1148,
   "metadata": {},
   "outputs": [],
   "source": [
    "def trial(data, circles_dict):\n",
    "    # Define model\n",
    "    inputs = Input(shape=(2352,))\n",
    "    preds = Dense(1, activation=\"sigmoid\")(inputs)\n",
    "    model = Model(inputs=inputs, outputs=preds)\n",
    "    sgd = keras.optimizers.Adam(lr=0.01)\n",
    "    model.compile(optimizer=sgd, loss='binary_crossentropy', metrics=['accuracy'])\n",
    "\n",
    "    # Decide phase 1 rule\n",
    "    circles = [\"big green\", \"small green\", \"big red\", \"small red\"]\n",
    "    first = np.random.choice(circles)\n",
    "    circles.remove(first)\n",
    "    \n",
    "    for x in circles:\n",
    "        if (first.split()[0] not in x) and (first.split()[1] not in x):\n",
    "            circles.remove(x)\n",
    "            \n",
    "    second = np.random.choice(circles)\n",
    "    circles.remove(second)\n",
    "    rule1 = []\n",
    "    \n",
    "    for key in circles_dict.keys():\n",
    "        if (key == first) or (key == second):\n",
    "            rule1.append(1)\n",
    "        else:\n",
    "            rule1.append(0)\n",
    "            \n",
    "    y = pd.DataFrame({\"Group\": rule1})\n",
    "    \n",
    "    # Decide phase 2 rule\n",
    "    switch_type = np.random.choice([\"inter\", \"intra\"])\n",
    "    \n",
    "    if switch_type == \"inter\":\n",
    "        if first.split()[0] == second.split()[0]:\n",
    "            new_positive = (first, second)[np.random.randint(0,2)].split()[1]\n",
    "        else:\n",
    "            new_positive = (first, second)[np.random.randint(0,2)].split()[0]\n",
    "    else:\n",
    "        if first.split()[0] == second.split()[0]:\n",
    "            new_positive = circles[0].split()[0]\n",
    "        else:\n",
    "            new_positive = circles[0].split()[1]\n",
    "            \n",
    "    circles = [\"big green\", \"small green\", \"big red\", \"small red\"]\n",
    "    i = 0\n",
    "    \n",
    "    while i < len(circles):\n",
    "        if new_positive not in circles[i]:\n",
    "            del circles[i]\n",
    "        else:\n",
    "            i += 1\n",
    "            \n",
    "    rule2 = []\n",
    "    \n",
    "    for key in circles_dict.keys():\n",
    "        if (key == circles[0]) or (key == circles[1]):\n",
    "            rule2.append(1)\n",
    "        else:\n",
    "            rule2.append(0)\n",
    "    \n",
    "    # Initialize variables\n",
    "    trials_rule1 = 0\n",
    "    trials_rule2 = 0\n",
    "    switch = False\n",
    "    c = 0\n",
    "    \n",
    "    while True:\n",
    "        model.fit(data, y, batch_size=1, verbose=0)\n",
    "        acc = model.history.history[\"acc\"][0]\n",
    "        \n",
    "        if acc == 1:\n",
    "            c += 1\n",
    "        else:\n",
    "            c = 0\n",
    "            \n",
    "        if switch:\n",
    "            trials_rule2 += 1\n",
    "        else:\n",
    "            trials_rule1 += 1\n",
    "            \n",
    "        if (c == 8) and not(switch):\n",
    "            y = pd.DataFrame({\"Group\": rule2})\n",
    "            switch = True\n",
    "            c = 0\n",
    "            \n",
    "        if (c == 8) and switch:\n",
    "            return trials_rule1, trials_rule2, switch_type\n",
    "        \n",
    "        if trials_rule2 >= 500 or trials_rule1 >= 500:\n",
    "            return [None]*3"
   ]
  },
  {
   "cell_type": "code",
   "execution_count": 1149,
   "metadata": {},
   "outputs": [],
   "source": [
    "def experiment(file, trials, data, circles_dict):\n",
    "    try:\n",
    "        results = pd.read_pickle(file)\n",
    "    except:\n",
    "        results = pd.DataFrame()\n",
    "    \n",
    "    for i in tqdm(range(trials)):\n",
    "        trials_rule1, trials_rule2, switch_type = trial(data, circles_dict)\n",
    "        results = results.append(pd.DataFrame({\"Trials_rule1\": [trials_rule1], \n",
    "                                               \"Trials_rule2\": [trials_rule2], \n",
    "                                               \"Switch_type\": [switch_type]}))\n",
    "        results.to_pickle(file)"
   ]
  },
  {
   "cell_type": "code",
   "execution_count": 1150,
   "metadata": {},
   "outputs": [
    {
     "data": {
      "application/vnd.jupyter.widget-view+json": {
       "model_id": "5258bc2e8dbf4a258484e5a2bf60b967",
       "version_major": 2,
       "version_minor": 0
      },
      "text/plain": [
       "HBox(children=(IntProgress(value=0), HTML(value='')))"
      ]
     },
     "metadata": {},
     "output_type": "display_data"
    }
   ],
   "source": [
    "results = experiment(\"results-highLR.pkl\", 100, data, circles_dict)"
   ]
  },
  {
   "cell_type": "code",
   "execution_count": null,
   "metadata": {},
   "outputs": [],
   "source": []
  }
 ],
 "metadata": {
  "kernelspec": {
   "display_name": "Python 3",
   "language": "python",
   "name": "python3"
  },
  "language_info": {
   "codemirror_mode": {
    "name": "ipython",
    "version": 3
   },
   "file_extension": ".py",
   "mimetype": "text/x-python",
   "name": "python",
   "nbconvert_exporter": "python",
   "pygments_lexer": "ipython3",
   "version": "3.7.3"
  }
 },
 "nbformat": 4,
 "nbformat_minor": 2
}
